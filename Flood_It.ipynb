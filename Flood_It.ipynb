{
 "cells": [
  {
   "cell_type": "code",
   "execution_count": 1,
   "metadata": {},
   "outputs": [
    {
     "name": "stdout",
     "output_type": "stream",
     "text": [
      "pygame 2.0.1 (SDL 2.0.14, Python 3.8.3)\n",
      "Hello from the pygame community. https://www.pygame.org/contribute.html\n"
     ]
    }
   ],
   "source": [
    "import pygame\n",
    "import random\n",
    "import numpy as np"
   ]
  },
  {
   "cell_type": "code",
   "execution_count": 2,
   "metadata": {},
   "outputs": [],
   "source": [
    "class Square:\n",
    "    def __init__(self, x, y, color, size, neighbors):\n",
    "        self.x = x\n",
    "        self.y = y\n",
    "        self.color = color\n",
    "        self.size = size\n",
    "        self.neighbors = neighbors\n",
    "        self.active = False\n",
    "        \n",
    "    def display(self, screen):\n",
    "        pygame.draw.rect(screen, self.color, (self.x, self.y, self.size, self.size)) # left, top, width, height"
   ]
  },
  {
   "cell_type": "code",
   "execution_count": 3,
   "metadata": {},
   "outputs": [],
   "source": [
    "# Calculate all neighbors of a square\n",
    "def getNeighbors(i,j,m,n):\n",
    "    # central area\n",
    "    if i > 0 and j > 0 and i < m and j < n:\n",
    "        return np.asarray([[(i-1), j], [i, (j-1)], [(i+1), j], [i, (j+1)]])\n",
    "    # sides, apart from the corners\n",
    "    elif i <= 0 and j > 0 and i < m and j < n:\n",
    "        return np.asarray([[i, (j-1)], [(i+1), j], [i, (j+1)]])\n",
    "    elif i > 0 and j <= 0 and i < m and j < n:\n",
    "        return np.asarray([[(i-1), j], [(i+1), j], [i, (j+1)]])\n",
    "    elif i > 0 and j > 0 and i >= m and j < n:\n",
    "        return np.asarray([[(i-1), j], [i, (j-1)], [i, (j+1)]])\n",
    "    elif i > 0 and j > 0 and i < m and j >= n:\n",
    "        return np.asarray([[(i-1), j], [i, (j-1)], [(i+1), j]])\n",
    "    # corners\n",
    "    elif i <= 0 and j <= 0 and i < m and j < n:\n",
    "        return np.asarray([[(i+1), j], [i, (j+1)]])    \n",
    "    elif i <= 0 and j > 0 and i < m and j >= n:\n",
    "        return np.asarray([[i, (j-1)], [(i+1), j]])\n",
    "    elif i > 0 and j <= 0 and i >= m and j < n:\n",
    "        return np.asarray([[(i-1), j], [i, (j+1)]])\n",
    "    else:\n",
    "        return np.asarray([[(i-1), j], [i, (j-1)]])"
   ]
  },
  {
   "cell_type": "code",
   "execution_count": 4,
   "metadata": {},
   "outputs": [],
   "source": [
    "# Select a square via a mouse click\n",
    "def clickSquare(all_squares, x, y):\n",
    "    for i in range(all_squares.shape[0]):\n",
    "        for j in range(all_squares.shape[1]):\n",
    "            # checking if the position of the mouse is inside the selected square\n",
    "            if (all_squares[i][j].x < x and all_squares[i][j].y < y \n",
    "                    and (all_squares[i][j].x + all_squares[i][j].size) > x \n",
    "                            and (all_squares[i][j].y + all_squares[i][j].size) > y):\n",
    "                return all_squares[i][j]\n",
    "    return None"
   ]
  },
  {
   "cell_type": "code",
   "execution_count": 5,
   "metadata": {},
   "outputs": [],
   "source": [
    "# change the color of the active square\n",
    "def isValidNeighbor(all_squares, selected_square, active_color):\n",
    "    if selected_square.active == False:\n",
    "        working_array = [] # array to check if the square clicked is further away but directly connected to the working area\n",
    "        for el1,el2 in selected_square.neighbors:\n",
    "            # check if the square clicked is next to the working area\n",
    "            if all_squares[el1][el2].active == True:\n",
    "                selected_square.active = True\n",
    "                return selected_square.color, True\n",
    "            # check if the neighboring square is the same color as the one clicked\n",
    "            elif all_squares[el1][el2].color == selected_square.color:\n",
    "                working_array.extend(all_squares[el1][el2].neighbors)\n",
    "        # checking all the connected squares of the same color for connection to the working area\n",
    "        while working_array:\n",
    "            el = working_array.pop(0)\n",
    "            if all_squares[el[0]][el[1]].color == selected_square.color:\n",
    "                working_array.extend(all_squares[el[0]][el[1]].neighbors)\n",
    "            elif all_squares[el[0]][el[1]].active == True:\n",
    "                selected_square.active = True\n",
    "                return selected_square.color, True\n",
    "    return active_color, False"
   ]
  },
  {
   "cell_type": "code",
   "execution_count": 6,
   "metadata": {},
   "outputs": [],
   "source": [
    "# Change the status of adjoining squares into active\n",
    "def activateSquares(square_rows, square_columns, all_squares, active_color):\n",
    "    for i in range(square_rows): \n",
    "        for j in range(square_columns): \n",
    "            if all_squares[i][j].active == True:\n",
    "                for el1,el2 in all_squares[i][j].neighbors:\n",
    "                    if all_squares[el1][el2].color == active_color:\n",
    "                        all_squares[el1][el2].active = True"
   ]
  },
  {
   "cell_type": "code",
   "execution_count": 7,
   "metadata": {},
   "outputs": [],
   "source": [
    "# Recolor all active squares\n",
    "def recolor(square_rows, square_columns, all_squares, active_color, screen):                 \n",
    "    for i in range(square_rows): \n",
    "        for j in range(square_columns): \n",
    "            if all_squares[i][j].active == True:\n",
    "                all_squares[i][j].color = active_color\n",
    "                all_squares[i][j].display(screen)"
   ]
  },
  {
   "cell_type": "code",
   "execution_count": null,
   "metadata": {},
   "outputs": [],
   "source": [
    "# TODO: color scheme\n",
    "# TODO: choice for the board size\n",
    "# TODO: choice for the number of different colors\n",
    "# TODO: limited moves?\n",
    "# TODO: special squares"
   ]
  },
  {
   "cell_type": "code",
   "execution_count": 43,
   "metadata": {},
   "outputs": [],
   "source": [
    "def main():\n",
    "    pygame.init()\n",
    "    \n",
    "    pygame.display.set_caption('Flood it')\n",
    "    (width, height) = (400, 400)\n",
    "    screen = pygame.display.set_mode((width, height))\n",
    "    square_size = 25 \n",
    "    \n",
    "    white = (255, 255, 255) \n",
    "    red = (0, 72, 182)\n",
    "    yellow = (50, 197, 62)\n",
    "    cyan = (255, 230, 20)\n",
    "    platnum = (249, 124, 37)\n",
    "    misty_rose = (232, 44, 49)\n",
    "    colors = [red, yellow, cyan, platnum, misty_rose]\n",
    "    screen.fill(white)\n",
    "    \n",
    "    # Number of squares on the table\n",
    "    (square_rows, square_columns) = int(width/square_size), int(height/square_size)\n",
    "    all_squares = np.empty((square_rows, square_columns), dtype=object)\n",
    "    \n",
    "    for i in range(square_rows): # creating and coloring every row\n",
    "        for j in range(square_columns): # creating and coloring every column\n",
    "            all_squares[i][j] = Square(i*square_size, j*square_size, random.choice(colors), \n",
    "                                       square_size, getNeighbors(i, j, square_rows-1, square_columns-1))\n",
    "            all_squares[i][j].display(screen)\n",
    "                                   \n",
    "    # Changes need to be made before the flip() function is called.\n",
    "    pygame.display.flip()    \n",
    "    \n",
    "    # Make the upper left square active (and the adjoining ones of the same color)\n",
    "    all_squares[0][0].active = True\n",
    "    active_color = all_squares[0][0].color\n",
    "    activateSquares(square_rows, square_columns, all_squares, active_color)\n",
    "    \n",
    "    running = True\n",
    "    while running:\n",
    "        for event in pygame.event.get():\n",
    "            if event.type == pygame.QUIT:\n",
    "                running = False\n",
    "            if event.type == pygame.MOUSEBUTTONDOWN:\n",
    "                (mouseX, mouseY) = pygame.mouse.get_pos()\n",
    "                selected_square = clickSquare(all_squares, mouseX, mouseY)\n",
    "                active_color, valid_move = isValidNeighbor(all_squares, selected_square, active_color)\n",
    "\n",
    "                if valid_move == True and selected_square is not None:\n",
    "                    recolor(square_rows, square_columns, all_squares, active_color, screen)            \n",
    "                    activateSquares(square_rows, square_columns, all_squares, active_color)\n",
    "                        \n",
    "                pygame.display.flip()    \n",
    "    \n",
    "    pygame.quit()"
   ]
  },
  {
   "cell_type": "code",
   "execution_count": 44,
   "metadata": {},
   "outputs": [],
   "source": [
    "if __name__==\"__main__\":\n",
    "    main()"
   ]
  },
  {
   "cell_type": "code",
   "execution_count": null,
   "metadata": {},
   "outputs": [],
   "source": []
  },
  {
   "cell_type": "code",
   "execution_count": null,
   "metadata": {},
   "outputs": [],
   "source": []
  },
  {
   "cell_type": "code",
   "execution_count": null,
   "metadata": {},
   "outputs": [],
   "source": []
  }
 ],
 "metadata": {
  "kernelspec": {
   "display_name": "Python 3",
   "language": "python",
   "name": "python3"
  },
  "language_info": {
   "codemirror_mode": {
    "name": "ipython",
    "version": 3
   },
   "file_extension": ".py",
   "mimetype": "text/x-python",
   "name": "python",
   "nbconvert_exporter": "python",
   "pygments_lexer": "ipython3",
   "version": "3.8.3"
  }
 },
 "nbformat": 4,
 "nbformat_minor": 4
}
