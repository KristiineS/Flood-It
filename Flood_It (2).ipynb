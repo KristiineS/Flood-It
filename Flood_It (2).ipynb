{
 "cells": [
  {
   "cell_type": "code",
   "execution_count": 1,
   "metadata": {},
   "outputs": [
    {
     "name": "stdout",
     "output_type": "stream",
     "text": [
      "pygame 2.0.1 (SDL 2.0.14, Python 3.8.3)\n",
      "Hello from the pygame community. https://www.pygame.org/contribute.html\n"
     ]
    }
   ],
   "source": [
    "import pygame\n",
    "import random\n",
    "import numpy as np\n",
    "import copy\n",
    "from statistics import mode \n",
    "import time\n",
    "from math import inf"
   ]
  },
  {
   "cell_type": "code",
   "execution_count": 31,
   "metadata": {},
   "outputs": [],
   "source": [
    "class Square:\n",
    "    def __init__(self, x, y, color, size, neighbors):\n",
    "        self.x = x\n",
    "        self.y = y\n",
    "        self.color = color\n",
    "        self.size = size\n",
    "        self.neighbors = neighbors\n",
    "        self.active = False\n",
    "        # TODO : add a special square marker \n",
    "        \n",
    "    def display(self, screen):\n",
    "        pygame.draw.rect(screen, self.color, (self.x, self.y, self.size, self.size)) # left, top, width, height"
   ]
  },
  {
   "cell_type": "code",
   "execution_count": 32,
   "metadata": {},
   "outputs": [],
   "source": [
    "# Calculate all the neighbors of a square\n",
    "def getNeighbors(i,j,m,n):\n",
    "    # central area\n",
    "    if i > 0 and j > 0 and i < m and j < n:\n",
    "        return np.asarray([[(i-1), j], [i, (j-1)], [(i+1), j], [i, (j+1)]])\n",
    "    # sides, apart from the corners\n",
    "    elif i <= 0 and j > 0 and i < m and j < n:\n",
    "        return np.asarray([[i, (j-1)], [(i+1), j], [i, (j+1)]])\n",
    "    elif i > 0 and j <= 0 and i < m and j < n:\n",
    "        return np.asarray([[(i-1), j], [(i+1), j], [i, (j+1)]])\n",
    "    elif i > 0 and j > 0 and i >= m and j < n:\n",
    "        return np.asarray([[(i-1), j], [i, (j-1)], [i, (j+1)]])\n",
    "    elif i > 0 and j > 0 and i < m and j >= n:\n",
    "        return np.asarray([[(i-1), j], [i, (j-1)], [(i+1), j]])\n",
    "    # corners\n",
    "    elif i <= 0 and j <= 0 and i < m and j < n:\n",
    "        return np.asarray([[(i+1), j], [i, (j+1)]])    \n",
    "    elif i <= 0 and j > 0 and i < m and j >= n:\n",
    "        return np.asarray([[i, (j-1)], [(i+1), j]])\n",
    "    elif i > 0 and j <= 0 and i >= m and j < n:\n",
    "        return np.asarray([[(i-1), j], [i, (j+1)]])\n",
    "    else:\n",
    "        return np.asarray([[(i-1), j], [i, (j-1)]])"
   ]
  },
  {
   "cell_type": "code",
   "execution_count": 33,
   "metadata": {},
   "outputs": [],
   "source": [
    "# Select a square via a mouse click\n",
    "def clickSquare(all_squares, x, y):\n",
    "    for i in range(all_squares.shape[0]):\n",
    "        for j in range(all_squares.shape[1]):\n",
    "            # checking if the position of the mouse is inside the selected square\n",
    "            if (all_squares[i][j].x < x and all_squares[i][j].y < y \n",
    "                    and (all_squares[i][j].x + all_squares[i][j].size) > x \n",
    "                            and (all_squares[i][j].y + all_squares[i][j].size) > y):\n",
    "                return all_squares[i][j]\n",
    "    return None"
   ]
  },
  {
   "cell_type": "code",
   "execution_count": 34,
   "metadata": {},
   "outputs": [],
   "source": [
    "# change the color of the active square\n",
    "def isValidNeighbor(all_squares, selected_square, active_color):\n",
    "    if selected_square.active == False:\n",
    "        working_array = [] # array to check if the square clicked is further away but directly connected to the working area\n",
    "        for el1,el2 in selected_square.neighbors:\n",
    "            # check if the square clicked is next to the working area\n",
    "            if all_squares[el1][el2].active == True:\n",
    "                selected_square.active = True\n",
    "                return selected_square.color, True\n",
    "            # check if the neighboring square is the same color as the one clicked\n",
    "            elif all_squares[el1][el2].color == selected_square.color:\n",
    "                working_array.extend(all_squares[el1][el2].neighbors)\n",
    "        # checking all the connected squares of the same color for connection to the working area\n",
    "        while working_array:\n",
    "            el = working_array.pop(0)\n",
    "            if all_squares[el[0]][el[1]].color == selected_square.color:\n",
    "                working_array.extend(all_squares[el[0]][el[1]].neighbors)\n",
    "            elif all_squares[el[0]][el[1]].active == True:\n",
    "                selected_square.active = True\n",
    "                return selected_square.color, True\n",
    "    return active_color, False"
   ]
  },
  {
   "cell_type": "code",
   "execution_count": 35,
   "metadata": {},
   "outputs": [],
   "source": [
    "# Change the status of the adjoining squares into active and return the addition to the score\n",
    "def activateSquares(square_rows, square_columns, all_squares, active_color):\n",
    "    changed = 1\n",
    "    for i in range(square_rows): \n",
    "        for j in range(square_columns): \n",
    "            if all_squares[i][j].active == True:\n",
    "                for el1,el2 in all_squares[i][j].neighbors:\n",
    "                    if all_squares[el1][el2].color == active_color and all_squares[el1][el2].active == False:\n",
    "                        all_squares[el1][el2].active = True\n",
    "                        changed += 1              \n",
    "    # up to 20 squares - normal counting\n",
    "    # 20-39 squares - 2x points\n",
    "    # 40-59 squares - 3x points\n",
    "    # etc.   \n",
    "    return changed*((changed//21)+1) "
   ]
  },
  {
   "cell_type": "code",
   "execution_count": 36,
   "metadata": {},
   "outputs": [],
   "source": [
    "# Recolor all the active squares\n",
    "def recolor(square_rows, square_columns, all_squares, active_color):                               \n",
    "    for i in range(square_rows): \n",
    "        for j in range(square_columns): \n",
    "            if all_squares[i][j].active == True:\n",
    "                all_squares[i][j].color = active_color"
   ]
  },
  {
   "cell_type": "code",
   "execution_count": 37,
   "metadata": {},
   "outputs": [],
   "source": [
    "def updateScreen(square_rows, square_columns, all_squares, screen):\n",
    "    for i in range(square_rows): \n",
    "        for j in range(square_columns): \n",
    "                all_squares[i][j].display(screen)"
   ]
  },
  {
   "cell_type": "code",
   "execution_count": 38,
   "metadata": {},
   "outputs": [],
   "source": [
    "def checkFinished(square_rows, square_columns, all_squares):\n",
    "    # checks if all squares are of the same color\n",
    "    color = all_squares[0][0].color\n",
    "    for i in range(square_rows):\n",
    "        for j in range (square_columns):\n",
    "            if all_squares[i][j].color != color:\n",
    "                return False\n",
    "    return True"
   ]
  },
  {
   "cell_type": "code",
   "execution_count": 39,
   "metadata": {},
   "outputs": [],
   "source": [
    "# Update the text displayed\n",
    "def updateText(width, height, score, moves, screen):\n",
    "    font = pygame.font.Font(None, 30) # (font, font_size)\n",
    "    text = font.render('Score:' + str(score) + \"        \" + \"Moves:\" + str(moves), True, 'black') # (text, text_has_smooth_edges?, color)\n",
    "    text_surface = text.get_rect(center=(width//2, height+20)) # text surface with the center point of the object (left, top)\n",
    "    screen.fill('white', rect=text_surface, special_flags=0)\n",
    "    screen.blit(text, text_surface)"
   ]
  },
  {
   "cell_type": "code",
   "execution_count": 40,
   "metadata": {},
   "outputs": [],
   "source": [
    "def main():\n",
    "    pygame.init()\n",
    "    \n",
    "    pygame.display.set_caption('Flood it')\n",
    "    (width, height) = (400, 400)\n",
    "    screen = pygame.display.set_mode((width, height+40))\n",
    "    square_size = 25 \n",
    "    \n",
    "    score = 0\n",
    "    moves = 0\n",
    "    \n",
    "    blue = 'blue'\n",
    "    cyan = 'cyan'\n",
    "    limegreen = 'limegreen'    \n",
    "    yellow = 'yellow'\n",
    "    purple = 'darkviolet'\n",
    "    black = 'black'\n",
    "    white = 'white'\n",
    "    colors = [blue, cyan, limegreen, yellow, purple]\n",
    "    \n",
    "    screen.fill(white)\n",
    "    updateText(width, height, score, moves, screen)\n",
    "    \n",
    "    # Number of squares on the table\n",
    "    (square_rows, square_columns) = int(width/square_size), int(height/square_size)\n",
    "    all_squares = np.empty((square_rows, square_columns), dtype=object)\n",
    "    \n",
    "    for i in range(square_rows): # creating and coloring every row\n",
    "        for j in range(square_columns): # creating and coloring every column\n",
    "            all_squares[i][j] = Square(i*square_size, j*square_size, random.choice(colors), \n",
    "                                       square_size, getNeighbors(i, j, square_rows-1, square_columns-1))\n",
    "            all_squares[i][j].display(screen)\n",
    "                                   \n",
    "    # Changes need to be made before the flip() function is called.\n",
    "    pygame.display.flip()    \n",
    "    \n",
    "    # Make the upper left square active (and the adjoining ones of the same color)\n",
    "    all_squares[0][0].active = True\n",
    "    active_color = all_squares[0][0].color\n",
    "    activateSquares(square_rows, square_columns, all_squares, active_color)   \n",
    "     \n",
    "#    start_greedy = time.time()\n",
    "#    minimal_steps = greedyApproach(square_rows, square_columns, copy.deepcopy(all_squares))\n",
    "#    end_greedy = time.time()\n",
    "#    print(f\"With greedy solvable in: {minimal_steps} steps; Elapsed time: {end_greedy-start_greedy}s\")\n",
    "\n",
    "#    start_rec = time.time()\n",
    "#    rec_sols = list()\n",
    "#    for color in colors:\n",
    "#        rec_sols.append(recursiveSolution(square_rows, square_columns, copy.deepcopy(all_squares), colors, color, 0))\n",
    "#    minimal_steps_rec = min(rec_sols)\n",
    "#    end_rec = time.time()\n",
    "#    print(f\"With recursive solvable in: {minimal_steps_rec} steps; Elapsed time: {end_rec-start_rec}s\")\n",
    "\n",
    "    running = True\n",
    "    while running:  \n",
    "        for event in pygame.event.get():\n",
    "            if event.type == pygame.QUIT:\n",
    "                running = False\n",
    "                \n",
    "            if event.type == pygame.MOUSEBUTTONDOWN:\n",
    "                (mouseX, mouseY) = pygame.mouse.get_pos()\n",
    "                selected_square = clickSquare(all_squares, mouseX, mouseY)\n",
    "                valid_move = False\n",
    "                                \n",
    "                if selected_square is not None:\n",
    "                    active_color, valid_move = isValidNeighbor(all_squares, selected_square, active_color)\n",
    "                    \n",
    "                if valid_move == True:\n",
    "                    moves += 1\n",
    "                    recolor(square_rows, square_columns, all_squares, active_color)  \n",
    "                    updateScreen(square_rows, square_columns, all_squares, screen)            \n",
    "                    score += activateSquares(square_rows, square_columns, all_squares, active_color)\n",
    "                    updateText(width, height, score, moves, screen)\n",
    "                    \n",
    "                    # TODO : display a winning message\n",
    "                    #if checkFinished(square_rows, square_columns, all_squares) == True:\n",
    "                    \n",
    "                pygame.display.flip()    \n",
    "    \n",
    "    pygame.quit()"
   ]
  },
  {
   "cell_type": "code",
   "execution_count": 41,
   "metadata": {},
   "outputs": [],
   "source": [
    "if __name__==\"__main__\":\n",
    "    main()"
   ]
  },
  {
   "cell_type": "code",
   "execution_count": null,
   "metadata": {},
   "outputs": [],
   "source": []
  },
  {
   "cell_type": "code",
   "execution_count": null,
   "metadata": {},
   "outputs": [],
   "source": []
  },
  {
   "cell_type": "code",
   "execution_count": null,
   "metadata": {},
   "outputs": [],
   "source": []
  },
  {
   "cell_type": "code",
   "execution_count": 13,
   "metadata": {},
   "outputs": [],
   "source": [
    "def greedyApproach(square_rows, square_columns, all_squares):\n",
    "    # determines minimal number of moves using greedy approach\n",
    "    steps = 0\n",
    "    while(not checkFinished(square_rows, square_columns, all_squares)):\n",
    "        next_step = getMostImportantNeighbor(square_rows, square_columns, all_squares)       \n",
    "        recolor(square_rows, square_columns, all_squares, next_step)            \n",
    "        activateSquares(square_rows, square_columns, all_squares, next_step)\n",
    "        steps +=1\n",
    "    return steps"
   ]
  },
  {
   "cell_type": "code",
   "execution_count": 14,
   "metadata": {},
   "outputs": [],
   "source": [
    "def getMostImportantNeighbor(square_rows, square_columns, all_squares):\n",
    "    # get most often occuring color of neighboring squares from active area\n",
    "    all_colours = list()\n",
    "    for i in range(square_rows): \n",
    "        for j in range(square_columns): \n",
    "            current_square = all_squares[i][j]\n",
    "            if current_square.active == True:\n",
    "                for neighbor_i, neighbor_j in current_square.neighbors:\n",
    "                    if all_squares[neighbor_i][neighbor_j].color != current_square.color:\n",
    "                        all_colours.append(((neighbor_i, neighbor_j),all_squares[neighbor_i][neighbor_j].color))\n",
    "    # print(all_colours)\n",
    "    # print(mode([x[1] for x in list(set(all_colours))]))\n",
    "    \n",
    "    return mode([x[1] for x in list(set(all_colours))])"
   ]
  },
  {
   "cell_type": "code",
   "execution_count": 15,
   "metadata": {},
   "outputs": [],
   "source": [
    "## too many steps\n",
    "def recursiveSolution(square_rows, square_columns, all_squares, colors, color, steps):\n",
    "    if (checkFinished(square_rows, square_columns, all_squares)):\n",
    "        return steps\n",
    "    else:\n",
    "        steps +=1     \n",
    "        if  isValidColor(square_rows, square_columns, all_squares, color):\n",
    "            recolor(square_rows, square_columns, all_squares, color)            \n",
    "            activateSquares(square_rows, square_columns, all_squares, color)\n",
    "            ls = list()\n",
    "            for color in colors:\n",
    "                ls.append(recursiveSolution(square_rows, square_columns, copy.deepcopy(all_squares), colors, color, steps))\n",
    "            return min(ls)\n",
    "        else:\n",
    "            return inf"
   ]
  },
  {
   "cell_type": "code",
   "execution_count": 16,
   "metadata": {},
   "outputs": [],
   "source": [
    "def isValidColor(square_rows, square_columns, all_squares, color):\n",
    "    for i in range(square_rows): \n",
    "        for j in range(square_columns): \n",
    "            current_square = all_squares[i][j]\n",
    "            if current_square.active == True:\n",
    "                for neighbor_i, neighbor_j in current_square.neighbors:\n",
    "                    if all_squares[neighbor_i][neighbor_j].color == color:\n",
    "                        return True\n",
    "    return False"
   ]
  }
 ],
 "metadata": {
  "kernelspec": {
   "display_name": "Python 3",
   "language": "python",
   "name": "python3"
  },
  "language_info": {
   "codemirror_mode": {
    "name": "ipython",
    "version": 3
   },
   "file_extension": ".py",
   "mimetype": "text/x-python",
   "name": "python",
   "nbconvert_exporter": "python",
   "pygments_lexer": "ipython3",
   "version": "3.8.3"
  }
 },
 "nbformat": 4,
 "nbformat_minor": 4
}
