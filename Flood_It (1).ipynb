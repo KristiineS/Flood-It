{
 "cells": [
  {
   "cell_type": "code",
   "execution_count": 16,
   "metadata": {},
   "outputs": [],
   "source": [
    "import pygame\n",
    "import random\n",
    "import numpy as np\n",
    "import copy\n",
    "from statistics import mode "
   ]
  },
  {
   "cell_type": "code",
   "execution_count": 17,
   "metadata": {},
   "outputs": [],
   "source": [
    "class Square:\n",
    "    def __init__(self, x, y, color, size, neighbors):\n",
    "        self.x = x\n",
    "        self.y = y\n",
    "        self.color = color\n",
    "        self.size = size\n",
    "        self.neighbors = neighbors\n",
    "        self.active = False\n",
    "        \n",
    "    def display(self, screen):\n",
    "        pygame.draw.rect(screen, self.color, (self.x, self.y, self.size, self.size)) # left, top, width, height"
   ]
  },
  {
   "cell_type": "code",
   "execution_count": 18,
   "metadata": {},
   "outputs": [],
   "source": [
    "# Calculate all the neighbors of a square\n",
    "def getNeighbors(i,j,m,n):\n",
    "    # central area\n",
    "    if i > 0 and j > 0 and i < m and j < n:\n",
    "        return np.asarray([[(i-1), j], [i, (j-1)], [(i+1), j], [i, (j+1)]])\n",
    "    # sides, apart from the corners\n",
    "    elif i <= 0 and j > 0 and i < m and j < n:\n",
    "        return np.asarray([[i, (j-1)], [(i+1), j], [i, (j+1)]])\n",
    "    elif i > 0 and j <= 0 and i < m and j < n:\n",
    "        return np.asarray([[(i-1), j], [(i+1), j], [i, (j+1)]])\n",
    "    elif i > 0 and j > 0 and i >= m and j < n:\n",
    "        return np.asarray([[(i-1), j], [i, (j-1)], [i, (j+1)]])\n",
    "    elif i > 0 and j > 0 and i < m and j >= n:\n",
    "        return np.asarray([[(i-1), j], [i, (j-1)], [(i+1), j]])\n",
    "    # corners\n",
    "    elif i <= 0 and j <= 0 and i < m and j < n:\n",
    "        return np.asarray([[(i+1), j], [i, (j+1)]])    \n",
    "    elif i <= 0 and j > 0 and i < m and j >= n:\n",
    "        return np.asarray([[i, (j-1)], [(i+1), j]])\n",
    "    elif i > 0 and j <= 0 and i >= m and j < n:\n",
    "        return np.asarray([[(i-1), j], [i, (j+1)]])\n",
    "    else:\n",
    "        return np.asarray([[(i-1), j], [i, (j-1)]])"
   ]
  },
  {
   "cell_type": "code",
   "execution_count": 19,
   "metadata": {},
   "outputs": [],
   "source": [
    "# Select a square via a mouse click\n",
    "def clickSquare(all_squares, x, y):\n",
    "    for i in range(all_squares.shape[0]):\n",
    "        for j in range(all_squares.shape[1]):\n",
    "            # checking if the position of the mouse is inside the selected square\n",
    "            if (all_squares[i][j].x < x and all_squares[i][j].y < y \n",
    "                    and (all_squares[i][j].x + all_squares[i][j].size) > x \n",
    "                            and (all_squares[i][j].y + all_squares[i][j].size) > y):\n",
    "                return all_squares[i][j]\n",
    "    return None"
   ]
  },
  {
   "cell_type": "code",
   "execution_count": 20,
   "metadata": {},
   "outputs": [],
   "source": [
    "# change the color of the active square\n",
    "def isValidNeighbor(all_squares, selected_square, active_color):\n",
    "    if selected_square.active == False:\n",
    "        working_array = [] # array to check if the square clicked is further away but directly connected to the working area\n",
    "        for el1,el2 in selected_square.neighbors:\n",
    "            # check if the square clicked is next to the working area\n",
    "            if all_squares[el1][el2].active == True:\n",
    "                selected_square.active = True\n",
    "                return selected_square.color, True\n",
    "            # check if the neighboring square is the same color as the one clicked\n",
    "            elif all_squares[el1][el2].color == selected_square.color:\n",
    "                working_array.extend(all_squares[el1][el2].neighbors)\n",
    "        # checking all the connected squares of the same color for connection to the working area\n",
    "        while working_array:\n",
    "            el = working_array.pop(0)\n",
    "            if all_squares[el[0]][el[1]].color == selected_square.color:\n",
    "                working_array.extend(all_squares[el[0]][el[1]].neighbors)\n",
    "            elif all_squares[el[0]][el[1]].active == True:\n",
    "                selected_square.active = True\n",
    "                return selected_square.color, True\n",
    "    return active_color, False"
   ]
  },
  {
   "cell_type": "code",
   "execution_count": 21,
   "metadata": {},
   "outputs": [],
   "source": [
    "# Change the status of the adjoining squares into active\n",
    "def activateSquares(square_rows, square_columns, all_squares, active_color):\n",
    "    for i in range(square_rows): \n",
    "        for j in range(square_columns): \n",
    "            if all_squares[i][j].active == True:\n",
    "                for el1,el2 in all_squares[i][j].neighbors:\n",
    "                    if all_squares[el1][el2].color == active_color:\n",
    "                        all_squares[el1][el2].active = True"
   ]
  },
  {
   "cell_type": "code",
   "execution_count": 22,
   "metadata": {},
   "outputs": [],
   "source": [
    "# Recolor all the active squares\n",
    "# def recolor(square_rows, square_columns, all_squares, active_color, screen): \n",
    "def recolor(square_rows, square_columns, all_squares, active_color):                               \n",
    "    for i in range(square_rows): \n",
    "        for j in range(square_columns): \n",
    "            if all_squares[i][j].active == True:\n",
    "                all_squares[i][j].color = active_color\n",
    "                # all_squares[i][j].display(screen)"
   ]
  },
  {
   "cell_type": "code",
   "execution_count": 36,
   "metadata": {},
   "outputs": [],
   "source": [
    "def updateScreen(square_rows, square_columns, all_squares, screen):\n",
    "    for i in range(square_rows): \n",
    "        for j in range(square_columns): \n",
    "                all_squares[i][j].display(screen)"
   ]
  },
  {
   "cell_type": "code",
   "execution_count": 8,
   "metadata": {},
   "outputs": [],
   "source": [
    "# TODO: color scheme\n",
    "# TODO: choice for the board size\n",
    "# TODO: choice for the number of different colors\n",
    "# TODO: limited moves?\n",
    "# TODO: special squares"
   ]
  },
  {
   "cell_type": "code",
   "execution_count": 37,
   "metadata": {},
   "outputs": [],
   "source": [
    "def main():\n",
    "    pygame.init()\n",
    "    \n",
    "    pygame.display.set_caption('Flood it')\n",
    "    (width, height) = (1100, 600)\n",
    "    screen = pygame.display.set_mode((width, height))\n",
    "    square_size = 25 \n",
    "    \n",
    "    white = (255, 255, 255) \n",
    "    red = (0, 72, 182)\n",
    "    yellow = (50, 197, 62)\n",
    "    cyan = (255, 230, 20)\n",
    "    platnum = (249, 124, 37)\n",
    "    #misty_rose = (232, 44, 49)\n",
    "    some_color = (200, 200, 200)\n",
    "    ahh = (100,100,100)\n",
    "    \n",
    "    colors = [red, yellow, cyan, platnum, some_color, ahh]\n",
    "    screen.fill(white)\n",
    "    \n",
    "    # Number of squares on the table\n",
    "    (square_rows, square_columns) = int(width/square_size), int(height/square_size)\n",
    "    all_squares = np.empty((square_rows, square_columns), dtype=object)\n",
    "    \n",
    "    for i in range(square_rows): # creating and coloring every row\n",
    "        for j in range(square_columns): # creating and coloring every column\n",
    "            all_squares[i][j] = Square(i*square_size, j*square_size, random.choice(colors), \n",
    "                                       square_size, getNeighbors(i, j, square_rows-1, square_columns-1))\n",
    "            all_squares[i][j].display(screen)\n",
    "                                   \n",
    "    # Changes need to be made before the flip() function is called.\n",
    "    pygame.display.flip()    \n",
    "    \n",
    "    # Make the upper left square active (and the adjoining ones of the same color)\n",
    "    all_squares[0][0].active = True\n",
    "    active_color = all_squares[0][0].color\n",
    "    activateSquares(square_rows, square_columns, all_squares, active_color)\n",
    "    \n",
    "    minimal_steps = greedyApproach(square_rows, square_columns, copy.deepcopy(all_squares))\n",
    "    print(f\"With greedy solvable in: {minimal_steps}\")\n",
    "    running = True\n",
    "    while running:\n",
    "        for event in pygame.event.get():\n",
    "            if event.type == pygame.QUIT:\n",
    "                running = False\n",
    "            if event.type == pygame.MOUSEBUTTONDOWN:\n",
    "                (mouseX, mouseY) = pygame.mouse.get_pos()\n",
    "                selected_square = clickSquare(all_squares, mouseX, mouseY)\n",
    "                \n",
    "                if selected_square is not None:\n",
    "                    active_color, valid_move = isValidNeighbor(all_squares, selected_square, active_color)\n",
    "                    \n",
    "                if valid_move == True:\n",
    "                    # recolor(square_rows, square_columns, all_squares, active_color, screen)\n",
    "                    recolor(square_rows, square_columns, all_squares, active_color)\n",
    "                    updateScreen(square_rows, square_columns, all_squares, screen)            \n",
    "                    activateSquares(square_rows, square_columns, all_squares, active_color)\n",
    "                                        \n",
    "                pygame.display.flip()    \n",
    "    \n",
    "    pygame.quit()"
   ]
  },
  {
   "cell_type": "code",
   "execution_count": 25,
   "metadata": {},
   "outputs": [],
   "source": [
    "def checkFinished(square_rows, square_columns, all_squares):\n",
    "    # checks if all squares are of the same color\n",
    "    color = all_squares[0][0].color\n",
    "    for i in range(square_rows):\n",
    "        for j in range (square_columns):\n",
    "            if all_squares[i][j].color != color:\n",
    "                return False\n",
    "    return True\n"
   ]
  },
  {
   "cell_type": "code",
   "execution_count": 26,
   "metadata": {},
   "outputs": [],
   "source": [
    "def greedyApproach(square_rows, square_columns, all_squares):\n",
    "    # determines minimal number of moves using greedy approach\n",
    "    steps = 0\n",
    "    while(not checkFinished(square_rows, square_columns, all_squares)):\n",
    "        next_step = getMostImportantNeighbor(square_rows, square_columns, all_squares)       \n",
    "        recolor(square_rows, square_columns, all_squares, next_step)            \n",
    "        activateSquares(square_rows, square_columns, all_squares, next_step)\n",
    "        steps +=1\n",
    "    return steps\n"
   ]
  },
  {
   "cell_type": "code",
   "execution_count": 31,
   "metadata": {},
   "outputs": [],
   "source": [
    "def getMostImportantNeighbor(square_rows, square_columns, all_squares):\n",
    "    # get most often occuring color of neighboring squares from active area\n",
    "    all_colours = list()\n",
    "    for i in range(square_rows): \n",
    "        for j in range(square_columns): \n",
    "            current_square = all_squares[i][j]\n",
    "            if current_square.active == True:\n",
    "                for neighbor_i, neighbor_j in current_square.neighbors:\n",
    "                    if all_squares[neighbor_i][neighbor_j].color != current_square.color:\n",
    "                        all_colours.append(all_squares[neighbor_i][neighbor_j].color)\n",
    "    return mode(all_colours)\n",
    "\n",
    "                "
   ]
  },
  {
   "cell_type": "code",
   "execution_count": 35,
   "metadata": {},
   "outputs": [
    {
     "output_type": "stream",
     "name": "stdout",
     "text": [
      "solvable in: 73\n"
     ]
    },
    {
     "output_type": "error",
     "ename": "NameError",
     "evalue": "name 'all_squares' is not defined",
     "traceback": [
      "\u001b[1;31m---------------------------------------------------------------------------\u001b[0m",
      "\u001b[1;31mNameError\u001b[0m                                 Traceback (most recent call last)",
      "\u001b[1;32m<ipython-input-35-68fc34c81b28>\u001b[0m in \u001b[0;36m<module>\u001b[1;34m\u001b[0m\n\u001b[0;32m      1\u001b[0m \u001b[1;32mif\u001b[0m \u001b[0m__name__\u001b[0m\u001b[1;33m==\u001b[0m\u001b[1;34m\"__main__\"\u001b[0m\u001b[1;33m:\u001b[0m\u001b[1;33m\u001b[0m\u001b[1;33m\u001b[0m\u001b[0m\n\u001b[1;32m----> 2\u001b[1;33m     \u001b[0mmain\u001b[0m\u001b[1;33m(\u001b[0m\u001b[1;33m)\u001b[0m\u001b[1;33m\u001b[0m\u001b[1;33m\u001b[0m\u001b[0m\n\u001b[0m",
      "\u001b[1;32m<ipython-input-34-f9986efd8499>\u001b[0m in \u001b[0;36mmain\u001b[1;34m()\u001b[0m\n\u001b[0;32m     54\u001b[0m                     \u001b[1;31m# recolor(square_rows, square_columns, all_squares, active_color, screen)\u001b[0m\u001b[1;33m\u001b[0m\u001b[1;33m\u001b[0m\u001b[1;33m\u001b[0m\u001b[0m\n\u001b[0;32m     55\u001b[0m                     \u001b[0mrecolor\u001b[0m\u001b[1;33m(\u001b[0m\u001b[0msquare_rows\u001b[0m\u001b[1;33m,\u001b[0m \u001b[0msquare_columns\u001b[0m\u001b[1;33m,\u001b[0m \u001b[0mall_squares\u001b[0m\u001b[1;33m,\u001b[0m \u001b[0mactive_color\u001b[0m\u001b[1;33m)\u001b[0m\u001b[1;33m\u001b[0m\u001b[1;33m\u001b[0m\u001b[0m\n\u001b[1;32m---> 56\u001b[1;33m                     \u001b[0mupdateScreen\u001b[0m\u001b[1;33m(\u001b[0m\u001b[0msquare_rows\u001b[0m\u001b[1;33m,\u001b[0m \u001b[0msquare_columns\u001b[0m\u001b[1;33m,\u001b[0m \u001b[0mscreen\u001b[0m\u001b[1;33m)\u001b[0m\u001b[1;33m\u001b[0m\u001b[1;33m\u001b[0m\u001b[0m\n\u001b[0m\u001b[0;32m     57\u001b[0m                     \u001b[0mactivateSquares\u001b[0m\u001b[1;33m(\u001b[0m\u001b[0msquare_rows\u001b[0m\u001b[1;33m,\u001b[0m \u001b[0msquare_columns\u001b[0m\u001b[1;33m,\u001b[0m \u001b[0mall_squares\u001b[0m\u001b[1;33m,\u001b[0m \u001b[0mactive_color\u001b[0m\u001b[1;33m)\u001b[0m\u001b[1;33m\u001b[0m\u001b[1;33m\u001b[0m\u001b[0m\n\u001b[0;32m     58\u001b[0m \u001b[1;33m\u001b[0m\u001b[0m\n",
      "\u001b[1;32m<ipython-input-33-e26fca383925>\u001b[0m in \u001b[0;36mupdateScreen\u001b[1;34m(square_rows, square_columns, screen)\u001b[0m\n\u001b[0;32m      2\u001b[0m     \u001b[1;32mfor\u001b[0m \u001b[0mi\u001b[0m \u001b[1;32min\u001b[0m \u001b[0mrange\u001b[0m\u001b[1;33m(\u001b[0m\u001b[0msquare_rows\u001b[0m\u001b[1;33m)\u001b[0m\u001b[1;33m:\u001b[0m\u001b[1;33m\u001b[0m\u001b[1;33m\u001b[0m\u001b[0m\n\u001b[0;32m      3\u001b[0m         \u001b[1;32mfor\u001b[0m \u001b[0mj\u001b[0m \u001b[1;32min\u001b[0m \u001b[0mrange\u001b[0m\u001b[1;33m(\u001b[0m\u001b[0msquare_columns\u001b[0m\u001b[1;33m)\u001b[0m\u001b[1;33m:\u001b[0m\u001b[1;33m\u001b[0m\u001b[1;33m\u001b[0m\u001b[0m\n\u001b[1;32m----> 4\u001b[1;33m                 \u001b[0mall_squares\u001b[0m\u001b[1;33m[\u001b[0m\u001b[0mi\u001b[0m\u001b[1;33m]\u001b[0m\u001b[1;33m[\u001b[0m\u001b[0mj\u001b[0m\u001b[1;33m]\u001b[0m\u001b[1;33m.\u001b[0m\u001b[0mdisplay\u001b[0m\u001b[1;33m(\u001b[0m\u001b[0mscreen\u001b[0m\u001b[1;33m)\u001b[0m\u001b[1;33m\u001b[0m\u001b[1;33m\u001b[0m\u001b[0m\n\u001b[0m",
      "\u001b[1;31mNameError\u001b[0m: name 'all_squares' is not defined"
     ]
    }
   ],
   "source": [
    "if __name__==\"__main__\":\n",
    "    main()"
   ]
  },
  {
   "cell_type": "code",
   "execution_count": null,
   "metadata": {},
   "outputs": [],
   "source": []
  }
 ],
 "metadata": {
  "kernelspec": {
   "name": "python3",
   "display_name": "Python 3.9.0 64-bit",
   "metadata": {
    "interpreter": {
     "hash": "63fd5069d213b44bf678585dea6b12cceca9941eaf7f819626cde1f2670de90d"
    }
   }
  },
  "language_info": {
   "codemirror_mode": {
    "name": "ipython",
    "version": 3
   },
   "file_extension": ".py",
   "mimetype": "text/x-python",
   "name": "python",
   "nbconvert_exporter": "python",
   "pygments_lexer": "ipython3",
   "version": "3.9.0-final"
  }
 },
 "nbformat": 4,
 "nbformat_minor": 4
}